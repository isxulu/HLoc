{
 "cells": [
  {
   "cell_type": "code",
   "execution_count": 17,
   "metadata": {},
   "outputs": [],
   "source": [
    "from pathlib import Path"
   ]
  },
  {
   "cell_type": "code",
   "execution_count": 18,
   "metadata": {},
   "outputs": [],
   "source": [
    "path1 = Path(\"/home/cvgluser/Sample/camera1/data\")\n",
    "path2 = Path(\"/home/cvgluser/Sample/camera2/data\")"
   ]
  },
  {
   "cell_type": "code",
   "execution_count": 19,
   "metadata": {},
   "outputs": [
    {
     "data": {
      "text/plain": [
       "'1691737601113994692.png'"
      ]
     },
     "execution_count": 19,
     "metadata": {},
     "output_type": "execute_result"
    }
   ],
   "source": [
    "imgs1 = [(str(p).split('/'))[-1] for p in path1.iterdir()]\n",
    "imgs2 = [(str(p).split('/'))[-1] for p in path2.iterdir()]\n",
    "\n",
    "imgs1.sort()\n",
    "imgs2.sort()\n",
    "\n",
    "imgs1[0]"
   ]
  },
  {
   "cell_type": "code",
   "execution_count": 20,
   "metadata": {},
   "outputs": [
    {
     "data": {
      "text/plain": [
       "['1691737601113994692.png',\n",
       " '1691737601163771055.png',\n",
       " '1691737601216896953.png',\n",
       " '1691737601264819500.png',\n",
       " '1691737601313636588.png',\n",
       " '1691737601364821354.png',\n",
       " '1691737601413855092.png',\n",
       " '1691737601464350558.png',\n",
       " '1691737601514725481.png',\n",
       " '1691737601565048771.png']"
      ]
     },
     "execution_count": 20,
     "metadata": {},
     "output_type": "execute_result"
    }
   ],
   "source": [
    "imgs = imgs1 + imgs2\n",
    "imgs.sort()\n",
    "imgs[0:10]"
   ]
  },
  {
   "cell_type": "code",
   "execution_count": 21,
   "metadata": {},
   "outputs": [
    {
     "data": {
      "text/plain": [
       "(101, 102)"
      ]
     },
     "execution_count": 21,
     "metadata": {},
     "output_type": "execute_result"
    }
   ],
   "source": [
    "start_2 = imgs.index(imgs2[0])\n",
    "start_1 = start_2 - 1\n",
    "\n",
    "start_1, start_2"
   ]
  },
  {
   "cell_type": "code",
   "execution_count": 22,
   "metadata": {},
   "outputs": [],
   "source": [
    "out1 = Path(\"/home/cvgluser/Sample/camera1/data_\")\n",
    "out2 = Path(\"/home/cvgluser/Sample/camera2/data_\")"
   ]
  },
  {
   "cell_type": "code",
   "execution_count": 25,
   "metadata": {},
   "outputs": [
    {
     "name": "stdout",
     "output_type": "stream",
     "text": [
      "1691737606313712652.png 1691737606337089070.png\n"
     ]
    }
   ],
   "source": [
    "import shutil\n",
    "\n",
    "import os\n",
    "\n",
    "os.mkdir(\"/home/cvgluser/Sample/camera1/data_\")\n",
    "\n",
    "while start_1 < len(imgs) and start_2 < len(imgs):\n",
    "    try:\n",
    "        print(imgs[start_1], imgs[start_2])\n",
    "        shutil.copyfile('/home/cvgluser/Sample/camera1/data/'+imgs[start_1], '/home/cvgluser/Sample/camera1/data_/'+imgs[start_1])\n",
    "        shutil.copyfile('/home/cvgluser/Sample/camera2/data/'+imgs[start_2], '/home/cvgluser/Sample/camera2/data_/'+imgs[start_1])\n",
    "        start_1 += 2; start_2 += 2\n",
    "    except Exception:\n",
    "        break"
   ]
  }
 ],
 "metadata": {
  "kernelspec": {
   "display_name": "hloc",
   "language": "python",
   "name": "python3"
  },
  "language_info": {
   "codemirror_mode": {
    "name": "ipython",
    "version": 3
   },
   "file_extension": ".py",
   "mimetype": "text/x-python",
   "name": "python",
   "nbconvert_exporter": "python",
   "pygments_lexer": "ipython3",
   "version": "3.9.17"
  },
  "orig_nbformat": 4
 },
 "nbformat": 4,
 "nbformat_minor": 2
}
